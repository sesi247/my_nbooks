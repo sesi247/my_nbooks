{
 "cells": [
  {
   "cell_type": "markdown",
   "id": "92e493a8-f78d-4853-91b3-5a1ad99f550c",
   "metadata": {},
   "source": [
    "# First Notebook"
   ]
  },
  {
   "cell_type": "markdown",
   "id": "fa7cc44e-2917-4dd0-aa90-49bd520711e0",
   "metadata": {},
   "source": [
    "## Sebastian Silva"
   ]
  },
  {
   "cell_type": "code",
   "execution_count": 3,
   "id": "06a75519-0019-454f-821e-4639700a2fcf",
   "metadata": {},
   "outputs": [],
   "source": [
    "import random\n",
    "\n",
    "nums = [random.randint(30,100) for _ in range(40)]"
   ]
  },
  {
   "cell_type": "code",
   "execution_count": 5,
   "id": "7383f7d1-6e8c-4403-bdab-b4b5463728ea",
   "metadata": {},
   "outputs": [
    {
     "name": "stdout",
     "output_type": "stream",
     "text": [
      "31 32 34 42 43 44 47 48 49 49 50 50 50 52 57 58 58 60 62 70 70 71 72 73 73 76 77 78 79 79 82 83 88 90 93 94 95 97 98 99 "
     ]
    }
   ],
   "source": [
    "nums.sort()\n",
    "\n",
    "for num in nums:\n",
    "    print(num, end=' ')"
   ]
  },
  {
   "cell_type": "markdown",
   "id": "8f103603-cf8d-46df-bb44-101c6e0132ac",
   "metadata": {},
   "source": [
    "## The Sample Mean\n",
    "\n",
    "- Sum all values in sample\n",
    "- Count number of values in sample\n",
    "- Divide sum by sample size to calculate mean"
   ]
  },
  {
   "cell_type": "markdown",
   "id": "88b09212-cb68-4f94-ae5e-eff7b3a6f490",
   "metadata": {},
   "source": [
    "\\[\n",
    "\\bar{x} = \\frac{\\sum_{i=1}^n x_i}{n}\n",
    "\\]"
   ]
  },
  {
   "cell_type": "code",
   "execution_count": 9,
   "id": "0654cc73-f698-4162-890e-8a16d5de85c2",
   "metadata": {},
   "outputs": [
    {
     "name": "stdout",
     "output_type": "stream",
     "text": [
      "The mean of the random list is: 66.33\n"
     ]
    }
   ],
   "source": [
    "mean_value = sum(nums) / len(nums)\n",
    "\n",
    "print(f\"The mean of the random list is: {mean_value:.2f}\")"
   ]
  },
  {
   "cell_type": "markdown",
   "id": "d36a4b51-51cb-449a-aae2-b71c18a96716",
   "metadata": {},
   "source": [
    "## The Median\n",
    "\n",
    "[Link](https://en.wikipedia.org/wiki/Median \"Median\")"
   ]
  },
  {
   "cell_type": "code",
   "execution_count": 47,
   "id": "a9cff698-b519-4cc6-8895-0b2ef66f82de",
   "metadata": {},
   "outputs": [
    {
     "name": "stdout",
     "output_type": "stream",
     "text": [
      "The median of the random list is: 63.0\n"
     ]
    }
   ],
   "source": [
    "# The median for an even number of values is calulcated by finding the average of the two middle values in a sample\n",
    "\n",
    "n = len(nums)\n",
    "\n",
    "if n % 2 == 0:\n",
    "    median = (nums[n // 2 - 1] + nums[n // 2]) / 2\n",
    "else:\n",
    "    median = nums[n // 2]\n",
    "\n",
    "print(f\"The median of the random list is: {median:.1f}\")\n",
    "\n"
   ]
  },
  {
   "cell_type": "code",
   "execution_count": null,
   "id": "4b05e7c9-1881-460d-9be6-8cf5310ca678",
   "metadata": {},
   "outputs": [],
   "source": []
  },
  {
   "cell_type": "code",
   "execution_count": null,
   "id": "a4fa18f0-3c0e-4af7-940c-c6eae288889f",
   "metadata": {},
   "outputs": [],
   "source": []
  }
 ],
 "metadata": {
  "kernelspec": {
   "display_name": "Python [conda env:base] *",
   "language": "python",
   "name": "conda-base-py"
  },
  "language_info": {
   "codemirror_mode": {
    "name": "ipython",
    "version": 3
   },
   "file_extension": ".py",
   "mimetype": "text/x-python",
   "name": "python",
   "nbconvert_exporter": "python",
   "pygments_lexer": "ipython3",
   "version": "3.12.7"
  }
 },
 "nbformat": 4,
 "nbformat_minor": 5
}
