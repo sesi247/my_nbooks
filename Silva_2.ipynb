{
 "cells": [
  {
   "cell_type": "markdown",
   "id": "7f8c78b4-41a8-4c80-ae92-bfa0f1e32318",
   "metadata": {},
   "source": [
    "# Chapter 2 Assignment"
   ]
  },
  {
   "cell_type": "markdown",
   "id": "21e8f65b-7e67-459e-be10-8a681203c0c1",
   "metadata": {},
   "source": [
    "## Sebastian Silva"
   ]
  },
  {
   "cell_type": "code",
   "execution_count": null,
   "id": "636f2e6b-3bd9-4f51-a7e2-2115adffe487",
   "metadata": {},
   "outputs": [],
   "source": [
    "import pandas as pd"
   ]
  },
  {
   "cell_type": "code",
   "execution_count": null,
   "id": "ece9bb21-02dc-4d97-82f2-d0069873c395",
   "metadata": {},
   "outputs": [],
   "source": []
  }
 ],
 "metadata": {
  "kernelspec": {
   "display_name": "Python [conda env:base] *",
   "language": "python",
   "name": "conda-base-py"
  },
  "language_info": {
   "codemirror_mode": {
    "name": "ipython",
    "version": 3
   },
   "file_extension": ".py",
   "mimetype": "text/x-python",
   "name": "python",
   "nbconvert_exporter": "python",
   "pygments_lexer": "ipython3",
   "version": "3.12.7"
  }
 },
 "nbformat": 4,
 "nbformat_minor": 5
}
